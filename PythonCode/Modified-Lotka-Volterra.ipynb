{
 "cells": [
  {
   "cell_type": "code",
   "execution_count": 61,
   "metadata": {},
   "outputs": [],
   "source": [
    "import numpy as np\n",
    "import matplotlib.pyplot as plt\n",
    "from sympy import *"
   ]
  },
  {
   "cell_type": "markdown",
   "metadata": {},
   "source": [
    "The point of this notebook is to walk through some of the work in the E.A McGehee and E. Peacock López paper \"Turing patterns in a modified Lotka-Volterra model\"\n",
    "\n",
    "Mostly, just trying to recreate some of the diagrams that were made on this paper and add some extra notes to it if necessary. May or may not break down some of the math in this notebook..."
   ]
  },
  {
   "cell_type": "markdown",
   "metadata": {},
   "source": [
    "First, I want to breakdown the math and diagrams in **Section 2: Modified Lotka model**\n",
    "\n",
    "# Section 2: Modified Lotka model\n",
    "\n",
    "The modified model McGehee et al are using is given by the following ODE\n",
    "\n",
    "\\begin{equation}\n",
    "\\begin{cases}\n",
    "\\frac{d[G]}{dt} = k_1 \\left( 1 - \\frac{G}{G_0} \\right) G - \\frac{k_2 GR}{K_2 + G} \\\\\n",
    "\\frac{d[R]}{dt} = \\frac{k_2 GR}{K_2 + G} - k_3R - k_4 R^2\n",
    "\\end{cases}\n",
    "\\end{equation}\n",
    "\n",
    "Here, $G$ is the prey population and $R$ is the predator population. \n",
    "\n",
    "$k_1$ is the rate of food replenishment and $G_0$ is the carrying capacity for the prey population\n",
    "\n",
    "$k_2$ is the rate of reproduction for predators and $K_2$ is the satiation rate constant (survival strategy for the prey population in which they have a large population to reduce the probability that an indivudual prey will be eaten). $k_3$ is the predator death rate.\n",
    "\n",
    "## Dimensionless equations\n",
    "\n",
    "The paper converts equation (1) into a dimensionless ODE, this is done to reduce the number of possible parameters, same reason as fluid dynamics models.\n",
    "\n",
    "\n",
    "\\begin{cases}\n",
    "\\frac{dX}{d\\tau} = X \\left[ r_0\\left( 1 - \\frac{X}{X_0} - \\frac{kY}{1+X} \\right) \\right] \\\\\n",
    "\\frac{dY}{d\\tau} = Y \\left[ \\frac{kX}{1+X} - 1 - k_fY \\right]\n",
    "\\end{cases}\n",
    "\n",
    "In terms of typical Reaction-Diffusion Equations, these equations can be written as\n",
    "\n",
    "\\begin{cases}\n",
    "Xf(X,Y) \\\\ \n",
    "Yg(X,Y)\n",
    "\\end{cases}\n",
    "\n",
    "the dimensionless parameters are as follows\n",
    "\n",
    "\n",
    "* $r_0 = k_1 / k_3 $\n",
    "* $X_0 = G_0 / K_2 $\n",
    "* $k = k_2 / k_3 $\n",
    "* $k_f = k_4K_2 / k_3 $\n",
    "\n",
    "We will be working with the dimensionless equation. \n",
    "\n",
    "# Finding Turing Patterns: Find Steady State Solutions\n",
    "\n",
    "The first thing the paper does is find steady state solutions to the dimensionless system of ODEs. In other words, they are finding solutions to the following equations:\n",
    "\n",
    "$$ 0 = \\bar{X} \\left[ r_0 \\left( 1 - \\frac{\\bar{X}}{X_0} - \\frac{k\\bar{Y}}{1 + \\bar{X}} \\right) \\right]$$\n",
    "\n",
    "$$ 0 = \\bar{Y} \\left[ \\frac{k\\bar{Y}}{1+\\bar{X}} - 1 - k_f \\bar{Y} \\right] $$\n",
    "\n",
    "Here, $\\bar{X}$ and $\\bar{Y}$ are the steady state solutions. There are three kinds of steady state solutions:\n",
    "\n",
    "* $(\\bar{X},\\bar{Y}) = (0,0)$ known as total extinction\n",
    "* $(\\bar{X},\\bar{Y}) = (X_0,0)$ known as partial extinction\n",
    "* $(\\bar{X},\\bar{Y}) \\neq (0,0)$ known as the coexistence solution\n",
    "\n",
    "The paper claims that the coexistence solution solves the cubic equation\n",
    "\n",
    "$$ \\frac{k_f r_0}{X_0} \\bar{X}^3 - \\frac{k_f r_0}{X_0} (X_0 - 2) \\bar{X}^2 + \\left[ k(k-1) - 2k_fr_0 + \\frac{k_f r_0}{X_0} \\right] \\bar{X} - (k + k_f r_0) = 0 $$\n",
    "\n",
    "They don't give an origin from that cubic equation, although I think that it may come from solve the system of equations involving the steady state solutions. This is where the first diagrams come up!\n",
    "\n",
    "First for figure 1, the paper set $r_0 = 15$ and $k_f = 0.10$"
   ]
  },
  {
   "cell_type": "code",
   "execution_count": 62,
   "metadata": {},
   "outputs": [],
   "source": [
    "k_f, k, r_0, X_0, X = symbols('k_f k r_0 X_0 X')\n",
    "paper_cubic = (k_f * r_0 / X_0) * (X**3) \\\n",
    "              + (k_f * r_0 / X_0) * (X_0 - 2) * (X**2) \\\n",
    "              + (k * (k-1) - 2 * k_f * r_0 + (k_f * r_0 / X_0)) * X \\\n",
    "              - (k + k_f * r_0)"
   ]
  },
  {
   "cell_type": "code",
   "execution_count": 63,
   "metadata": {},
   "outputs": [],
   "source": [
    "paper_cubic = paper_cubic.subs([(k_f,0.10),(r_0,15),(k,3.4)])\n"
   ]
  },
  {
   "cell_type": "code",
   "execution_count": 64,
   "metadata": {},
   "outputs": [],
   "source": [
    "paper_cubic = expand(paper_cubic * X_0 )"
   ]
  },
  {
   "cell_type": "code",
   "execution_count": 65,
   "metadata": {},
   "outputs": [
    {
     "data": {
      "text/latex": [
       "$\\displaystyle 1.5 X^{3} + 72.0 X^{2} + 259.5 X - 245.0$"
      ],
      "text/plain": [
       "1.5*X**3 + 72.0*X**2 + 259.5*X - 245.0"
      ]
     },
     "execution_count": 65,
     "metadata": {},
     "output_type": "execute_result"
    }
   ],
   "source": [
    "paper_cubic.subs(X_0,50)"
   ]
  },
  {
   "cell_type": "code",
   "execution_count": null,
   "metadata": {},
   "outputs": [],
   "source": []
  },
  {
   "cell_type": "code",
   "execution_count": null,
   "metadata": {},
   "outputs": [],
   "source": []
  }
 ],
 "metadata": {
  "interpreter": {
   "hash": "5edc29c2ed010d6458d71a83433b383a96a8cbd3efe8531bc90c4b8a5b8bcec9"
  },
  "kernelspec": {
   "display_name": "Python 3.8.9 64-bit",
   "language": "python",
   "name": "python3"
  },
  "language_info": {
   "codemirror_mode": {
    "name": "ipython",
    "version": 3
   },
   "file_extension": ".py",
   "mimetype": "text/x-python",
   "name": "python",
   "nbconvert_exporter": "python",
   "pygments_lexer": "ipython3",
   "version": "3.9.10"
  },
  "orig_nbformat": 4
 },
 "nbformat": 4,
 "nbformat_minor": 2
}
