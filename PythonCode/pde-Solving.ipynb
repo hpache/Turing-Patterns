{
 "cells": [
  {
   "cell_type": "markdown",
   "metadata": {},
   "source": [
    "Henry Pacheco Cachon\n",
    "\n",
    "MA472\n",
    "\n",
    "Notebook modeling different reaction-diffusion systems"
   ]
  },
  {
   "cell_type": "code",
   "execution_count": 85,
   "metadata": {},
   "outputs": [],
   "source": [
    "from pde import PDE, FieldCollection, PlotTracker, ScalarField, UnitGrid, MemoryStorage, movie"
   ]
  },
  {
   "cell_type": "markdown",
   "metadata": {},
   "source": [
    "We will be modeling the Brusselator model!\n",
    "\n",
    "$$\n",
    "\\begin{cases}\n",
    "\\frac{\\partial u}{\\partial t} = a - (1+b)u + vu^2 + D_u \\nabla^2u \\\\\n",
    "\\frac{\\partial v}{\\partial t} = bu - vu^2 + D_v \\nabla^2v\n",
    "\\end{cases}\n",
    "$$"
   ]
  },
  {
   "cell_type": "code",
   "execution_count": null,
   "metadata": {},
   "outputs": [],
   "source": [
    "# Defining the PDE\n",
    "\n",
    "# Defining constants\n",
    "a, b = 1, 3\n",
    "# Defining diffusivity constants\n",
    "Du, Dv = 1, 0.1\n",
    "\n",
    "eq = PDE(\n",
    "    {\n",
    "        \"u\": f\"{a} - ({b} + 1) * u + u**2 * v + {Du} * laplace(u)\",\n",
    "        \"v\": f\"{b}*u - v*(u**2) + {Dv} * laplace(v) \"\n",
    "    }\n",
    ")"
   ]
  },
  {
   "cell_type": "code",
   "execution_count": null,
   "metadata": {},
   "outputs": [],
   "source": [
    "# Initializing state\n",
    "grid = UnitGrid([64,64])\n",
    "u = ScalarField(grid, a, label=\"Field $u$\")\n",
    "v = b / a + 0.1 * ScalarField.random_normal(grid, label=\"Field $v$\")\n",
    "state = FieldCollection([u,v])"
   ]
  },
  {
   "cell_type": "code",
   "execution_count": null,
   "metadata": {},
   "outputs": [],
   "source": [
    "# Simulating the pde\n",
    "tracker = PlotTracker(interval=1, plot_args={\"vmin\": 0, \"vmax\": 5})\n",
    "storage = MemoryStorage()\n",
    "sol = eq.solve(state, t_range=130, dt=1e-3, tracker=[tracker,storage.tracker(1)])"
   ]
  },
  {
   "cell_type": "code",
   "execution_count": null,
   "metadata": {},
   "outputs": [],
   "source": [
    "# Saving output as a gif\n",
    "movie(storage, filename=\"Brusselator.gif\")"
   ]
  },
  {
   "cell_type": "markdown",
   "metadata": {},
   "source": [
    "Next an activator inhibitor model\n",
    "\n",
    "$$\n",
    "\\begin{cases}\n",
    "\\frac{\\partial a}{\\partial t} = c + \\frac{a^2}{h} - \\mu a + D_a \\nabla^2 a \\\\\n",
    "\\frac{\\partial h}{\\partial t} = a^2 - h + D_h \\nabla^2 h\n",
    "\\end{cases}\n",
    "$$"
   ]
  },
  {
   "cell_type": "code",
   "execution_count": null,
   "metadata": {},
   "outputs": [],
   "source": [
    "# Defining constants\n",
    "mu, c = 3.15, 0.5\n",
    "Da, Dh = 0.5, 9 \n",
    "\n",
    "eq = PDE(\n",
    "    {\n",
    "        \"a\": f\"{c} + (a**2)/h - {mu} * a + {Da} * laplace(a)\",\n",
    "        \"h\": f\"a**2 - h + {Dh} * laplace(h)\"\n",
    "    }\n",
    ")"
   ]
  },
  {
   "cell_type": "code",
   "execution_count": null,
   "metadata": {},
   "outputs": [],
   "source": [
    "# Initializing state\n",
    "grid = UnitGrid([100,100])\n",
    "a = ScalarField(grid, mu, label=\"Field $a$\")\n",
    "h = ScalarField.random_normal(grid, label=\"Field $h$\")\n",
    "state = FieldCollection([a,h])\n",
    "\n",
    "# Simulating the pde\n",
    "tracker = PlotTracker(interval=1, plot_args={\"vmin\": 0, \"vmax\": 5})\n",
    "storage = MemoryStorage()\n",
    "sol = eq.solve(state, t_range=130, dt=1e-3, tracker=[tracker,storage.tracker(1)])"
   ]
  },
  {
   "cell_type": "code",
   "execution_count": null,
   "metadata": {},
   "outputs": [],
   "source": [
    "# Saving output as a gif\n",
    "movie(storage, filename=\"Activator-Inhibitor.gif\")"
   ]
  },
  {
   "cell_type": "markdown",
   "metadata": {},
   "source": [
    "Finally, the Fitzhugh-Nagumo model:\n",
    "\n",
    "$$\n",
    "\\begin{cases}\n",
    "\\frac{\\partial u}{\\partial t} = (a-u)(u-1)u - v + D_u \\nabla^2 u \\\\\n",
    "\\frac{\\partial v}{\\partial t} = e(bu - v) + D_v \\nabla^2 v\n",
    "\\end{cases}\n",
    "$$"
   ]
  },
  {
   "cell_type": "code",
   "execution_count": 97,
   "metadata": {},
   "outputs": [],
   "source": [
    "a, e, b = -0.2, 0.1, 0.25\n",
    "Du, Dv = 1, 40\n",
    "\n",
    "eq = PDE(\n",
    "    {\n",
    "        \"u\": f\"( {a} - u ) * ( u - 1 ) * u - v + {Du} * laplace(u)\",\n",
    "        \"v\": f\"{e} * ( {b} * u - v ) + {Dv} * laplace(v)\"\n",
    "    }\n",
    ")"
   ]
  },
  {
   "cell_type": "code",
   "execution_count": 100,
   "metadata": {},
   "outputs": [
    {
     "data": {
      "application/vnd.jupyter.widget-view+json": {
       "model_id": "49f7ad47fd024e859aee8acd8cf5756b",
       "version_major": 2,
       "version_minor": 0
      },
      "text/plain": [
       "Output()"
      ]
     },
     "metadata": {},
     "output_type": "display_data"
    }
   ],
   "source": [
    "# Initializing state\n",
    "grid = UnitGrid([200,200])\n",
    "u = ScalarField.random_normal(grid, label=\"Field $u$\")\n",
    "v = ScalarField.random_normal(grid, label=\"Field $v$\")\n",
    "state = FieldCollection([u,v])\n",
    "\n",
    "# Simulating the pde\n",
    "tracker = PlotTracker(interval=1)\n",
    "storage = MemoryStorage()\n",
    "sol = eq.solve(state, t_range=100, dt=1e-3, tracker=[tracker,storage.tracker(1)])"
   ]
  },
  {
   "cell_type": "code",
   "execution_count": 101,
   "metadata": {},
   "outputs": [
    {
     "name": "stderr",
     "output_type": "stream",
     "text": [
      "100%|██████████| 101/101 [00:08<00:00, 12.11it/s]\n"
     ]
    }
   ],
   "source": [
    "# Saving output as a gif\n",
    "movie(storage, filename=\"FHN_normal.gif\")"
   ]
  },
  {
   "cell_type": "code",
   "execution_count": null,
   "metadata": {},
   "outputs": [],
   "source": []
  }
 ],
 "metadata": {
  "interpreter": {
   "hash": "4bdf3ce620357b750d9546af2001b6b52d242c0e871519d9a215fa8653acf179"
  },
  "kernelspec": {
   "display_name": "Python 3.9.5 ('base')",
   "language": "python",
   "name": "python3"
  },
  "language_info": {
   "codemirror_mode": {
    "name": "ipython",
    "version": 3
   },
   "file_extension": ".py",
   "mimetype": "text/x-python",
   "name": "python",
   "nbconvert_exporter": "python",
   "pygments_lexer": "ipython3",
   "version": "3.9.5"
  },
  "orig_nbformat": 4
 },
 "nbformat": 4,
 "nbformat_minor": 2
}
